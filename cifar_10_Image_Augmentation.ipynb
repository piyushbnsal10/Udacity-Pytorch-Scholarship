{
  "nbformat": 4,
  "nbformat_minor": 0,
  "metadata": {
    "colab": {
      "name": "cifar 10 Image_Augmentation.ipynb",
      "version": "0.3.2",
      "provenance": [],
      "include_colab_link": true
    },
    "kernelspec": {
      "name": "python3",
      "display_name": "Python 3"
    },
    "accelerator": "GPU"
  },
  "cells": [
    {
      "cell_type": "markdown",
      "metadata": {
        "id": "view-in-github",
        "colab_type": "text"
      },
      "source": [
        "<a href=\"https://colab.research.google.com/github/piyushbnsal10/Udacity-Pytorch-Scholarship/blob/master/cifar_10_Image_Augmentation.ipynb\" target=\"_parent\"><img src=\"https://colab.research.google.com/assets/colab-badge.svg\" alt=\"Open In Colab\"/></a>"
      ]
    },
    {
      "metadata": {
        "id": "BLzS3Qi9qTGs",
        "colab_type": "code",
        "outputId": "43ed53f8-376e-497c-916a-b8524bbea3f3",
        "colab": {
          "base_uri": "https://localhost:8080/",
          "height": 34
        }
      },
      "cell_type": "code",
      "source": [
        "import torch\n",
        "import numpy as np\n",
        "\n",
        "\n",
        "train_on_gpu=torch.cuda.is_available()\n",
        "\n",
        "if(train_on_gpu):\n",
        "  print(\"Cuda is available\")\n",
        "else:\n",
        "  print(\"Cuda not is available\")\n"
      ],
      "execution_count": 0,
      "outputs": [
        {
          "output_type": "stream",
          "text": [
            "Cuda is available\n"
          ],
          "name": "stdout"
        }
      ]
    },
    {
      "metadata": {
        "id": "qhb_854XtCuE",
        "colab_type": "code",
        "outputId": "da267f8b-20e1-4465-c0dc-7b669a94735c",
        "colab": {
          "base_uri": "https://localhost:8080/",
          "height": 51
        }
      },
      "cell_type": "code",
      "source": [
        "from torchvision import datasets\n",
        "import torchvision.transforms as transforms\n",
        "from torch.utils.data.sampler import SubsetRandomSampler\n",
        "\n",
        "batch_size=20\n",
        "valid_size=0.2\n",
        "\n",
        "transform=transforms.Compose([transforms.RandomHorizontalFlip(),transforms.RandomRotation(10),transforms.ToTensor(),transforms.Normalize((0.5,0.5,0.5),(0.5,0.5,0.5))])\n",
        "\n",
        "train_data=datasets.CIFAR10('data',train=True,download=True,transform=transform)\n",
        "test_data=datasets.CIFAR10('data',train=False,download=True,transform=transform)\n",
        "\n",
        "num_train=len(train_data)\n",
        "indices=list(range(num_train))\n",
        "np.random.shuffle(indices)\n",
        "split=int(np.floor(valid_size*num_train))\n",
        "train_idx,valid_idx=indices[split:],indices[:split]\n",
        "\n",
        "train_sampler=SubsetRandomSampler(train_idx)\n",
        "valid_sampler=SubsetRandomSampler(valid_idx)\n",
        "\n",
        "train_loader=torch.utils.data.DataLoader(train_data,batch_size=batch_size,sampler=train_sampler)\n",
        "valid_loader=torch.utils.data.DataLoader(train_data,batch_size=batch_size,sampler=valid_sampler)\n",
        "test_loader=torch.utils.data.DataLoader(test_data,batch_size=batch_size)\n",
        "\n",
        "classes=['Airplane','Automobile','Bird','Cat','Deer','Dog','Frog','Horse','Ship','Truck']\n"
      ],
      "execution_count": 0,
      "outputs": [
        {
          "output_type": "stream",
          "text": [
            "Downloading https://www.cs.toronto.edu/~kriz/cifar-10-python.tar.gz to data/cifar-10-python.tar.gz\n",
            "Files already downloaded and verified\n"
          ],
          "name": "stdout"
        }
      ]
    },
    {
      "metadata": {
        "id": "H61xaD2Myzrw",
        "colab_type": "code",
        "outputId": "938e1c82-02d8-4b1e-df73-8fd1661c900b",
        "colab": {
          "base_uri": "https://localhost:8080/",
          "height": 300
        }
      },
      "cell_type": "code",
      "source": [
        "import matplotlib.pyplot as plt\n",
        "%matplotlib inline\n",
        "\n",
        "data=train_data[15000][0].numpy()\n",
        "data=data*0.5+0.5\n",
        "data=np.transpose(data,(1,2,0))\n",
        "\n",
        "print(data.shape)\n",
        "plt.imshow(data)"
      ],
      "execution_count": 0,
      "outputs": [
        {
          "output_type": "stream",
          "text": [
            "(32, 32, 3)\n"
          ],
          "name": "stdout"
        },
        {
          "output_type": "execute_result",
          "data": {
            "text/plain": [
              "<matplotlib.image.AxesImage at 0x7fc484fec470>"
            ]
          },
          "metadata": {
            "tags": []
          },
          "execution_count": 4
        },
        {
          "output_type": "display_data",
          "data": {
            "image/png": "[encoded data removed]",
            "text/plain": [
              "<Figure size 432x288 with 1 Axes>"
            ]
          },
          "metadata": {
            "tags": []
          }
        }
      ]
    },
    {
      "metadata": {
        "id": "k7E1uRRTOnDX",
        "colab_type": "code",
        "outputId": "46b99d4b-c799-4445-d4fd-3b3be2421f61",
        "colab": {
          "base_uri": "https://localhost:8080/",
          "height": 170
        }
      },
      "cell_type": "code",
      "source": [
        "import torch.nn as nn\n",
        "import torch.nn.functional as F\n",
        "\n",
        "\n",
        "class Net(nn.Module):\n",
        "  def __init__(self):\n",
        "    super(Net,self).__init__()\n",
        "    self.conv1=nn.Conv2d(3,16,3,padding=1)\n",
        "    self.conv2=nn.Conv2d(16,32,3,padding=1)\n",
        "    self.conv3=nn.Conv2d(32,64,3,padding=1)\n",
        "    self.dropout=nn.Dropout(0.25)\n",
        "    self.pool=nn.MaxPool2d(2,2)\n",
        "    self.fc1=nn.Linear(64*4*4,500)\n",
        "    self.fc2=nn.Linear(500,10)\n",
        "    \n",
        "  def forward(self,x):\n",
        "    x=self.pool(F.relu(self.conv1(x)))\n",
        "    x=self.pool(F.relu(self.conv2(x)))\n",
        "    x=self.pool(F.relu(self.conv3(x)))\n",
        "  \n",
        "    x=x.view(-1,64*4*4)\n",
        "  \n",
        "    x=self.dropout(x)\n",
        "    x=F.relu(self.fc1(x))\n",
        "    x=self.dropout(x)\n",
        "    x=self.fc2(x)\n",
        "    return x\n",
        "\n",
        "model=Net()\n",
        "print(model)\n",
        "  \n",
        "if train_on_gpu:\n",
        "  model.cuda()\n",
        "         "
      ],
      "execution_count": 0,
      "outputs": [
        {
          "output_type": "stream",
          "text": [
            "Net(\n",
            "  (conv1): Conv2d(3, 16, kernel_size=(3, 3), stride=(1, 1), padding=(1, 1))\n",
            "  (conv2): Conv2d(16, 32, kernel_size=(3, 3), stride=(1, 1), padding=(1, 1))\n",
            "  (conv3): Conv2d(32, 64, kernel_size=(3, 3), stride=(1, 1), padding=(1, 1))\n",
            "  (dropout): Dropout(p=0.25)\n",
            "  (pool): MaxPool2d(kernel_size=2, stride=2, padding=0, dilation=1, ceil_mode=False)\n",
            "  (fc1): Linear(in_features=1024, out_features=500, bias=True)\n",
            "  (fc2): Linear(in_features=500, out_features=10, bias=True)\n",
            ")\n"
          ],
          "name": "stdout"
        }
      ]
    },
    {
      "metadata": {
        "id": "gWbSU3dW-t3Y",
        "colab_type": "code",
        "colab": {}
      },
      "cell_type": "code",
      "source": [
        "criterion=nn.CrossEntropyLoss()\n",
        "optimizer=torch.optim.SGD(model.parameters(),lr=0.01)"
      ],
      "execution_count": 0,
      "outputs": []
    },
    {
      "metadata": {
        "id": "EgUe85Wn_B2j",
        "colab_type": "code",
        "outputId": "3018d814-0159-4e64-ded5-6ac71d4d2868",
        "colab": {
          "base_uri": "https://localhost:8080/",
          "height": 2346
        }
      },
      "cell_type": "code",
      "source": [
        "n_epochs=70\n",
        "\n",
        "valid_loss_min=np.Inf\n",
        "train_loss=0.0\n",
        "valid_loss=0.0\n",
        "\n",
        "for epoch in range(n_epochs):\n",
        "\n",
        "  model.train()\n",
        "  for batch_idx,(image,label) in enumerate(train_loader):\n",
        "    if(train_on_gpu):\n",
        "      image,label=image.cuda(),label.cuda()\n",
        "     \n",
        "    optimizer.zero_grad()\n",
        "    output=model(image)\n",
        "    loss=criterion(output,label)\n",
        "    loss.backward()\n",
        "    optimizer.step()\n",
        "    train_loss+=loss.item()*image.size(0)\n",
        "    \n",
        "  model.eval()\n",
        "\n",
        " \n",
        "  \n",
        "  for batch_idx,(image,label) in enumerate(train_loader):\n",
        "    if(train_on_gpu):\n",
        "      image,label=image.cuda(),label.cuda()\n",
        "     \n",
        "    optimizer.zero_grad()\n",
        "    output=model(image)\n",
        "    loss=criterion(output,label)\n",
        "    loss.backward()\n",
        "    optimizer.step()\n",
        "    valid_loss+=loss.item()*image.size(0)\n",
        "    \n",
        "    \n",
        "  train_loss=train_loss/len(train_loader.dataset)\n",
        "  valid_loss=valid_loss/len(valid_loader.dataset)\n",
        "  print('Epoch: {} \\tTraining Loss: {:.6f} \\tValidation Loss: {:.6f}'.format(\n",
        "        epoch, train_loss, valid_loss))\n",
        "  if valid_loss <= valid_loss_min:\n",
        "        print('Validation loss decreased ({:.6f} --> {:.6f}).  Saving model ...'.format(\n",
        "        valid_loss_min,\n",
        "        valid_loss))\n",
        "        torch.save(model.state_dict(), 'model_augmented.pt')\n",
        "        valid_loss_min = valid_loss"
      ],
      "execution_count": 0,
      "outputs": [
        {
          "output_type": "stream",
          "text": [
            "Epoch: 0 \tTraining Loss: 0.925850 \tValidation Loss: 0.807239\n",
            "Validation loss decreased (inf --> 0.807239).  Saving model ...\n",
            "Epoch: 1 \tTraining Loss: 0.854013 \tValidation Loss: 0.730603\n",
            "Validation loss decreased (0.807239 --> 0.730603).  Saving model ...\n",
            "Epoch: 2 \tTraining Loss: 0.793995 \tValidation Loss: 0.673116\n",
            "Validation loss decreased (0.730603 --> 0.673116).  Saving model ...\n",
            "Epoch: 3 \tTraining Loss: 0.749019 \tValidation Loss: 0.623719\n",
            "Validation loss decreased (0.673116 --> 0.623719).  Saving model ...\n",
            "Epoch: 4 \tTraining Loss: 0.711039 \tValidation Loss: 0.577649\n",
            "Validation loss decreased (0.623719 --> 0.577649).  Saving model ...\n",
            "Epoch: 5 \tTraining Loss: 0.677349 \tValidation Loss: 0.542667\n",
            "Validation loss decreased (0.577649 --> 0.542667).  Saving model ...\n",
            "Epoch: 6 \tTraining Loss: 0.641937 \tValidation Loss: 0.507791\n",
            "Validation loss decreased (0.542667 --> 0.507791).  Saving model ...\n",
            "Epoch: 7 \tTraining Loss: 0.621284 \tValidation Loss: 0.478932\n",
            "Validation loss decreased (0.507791 --> 0.478932).  Saving model ...\n",
            "Epoch: 8 \tTraining Loss: 0.595085 \tValidation Loss: 0.450688\n",
            "Validation loss decreased (0.478932 --> 0.450688).  Saving model ...\n",
            "Epoch: 9 \tTraining Loss: 0.575445 \tValidation Loss: 0.423236\n",
            "Validation loss decreased (0.450688 --> 0.423236).  Saving model ...\n",
            "Epoch: 10 \tTraining Loss: 0.564771 \tValidation Loss: 0.398168\n",
            "Validation loss decreased (0.423236 --> 0.398168).  Saving model ...\n",
            "Epoch: 11 \tTraining Loss: 0.540639 \tValidation Loss: 0.382497\n",
            "Validation loss decreased (0.398168 --> 0.382497).  Saving model ...\n",
            "Epoch: 12 \tTraining Loss: 0.528570 \tValidation Loss: 0.358429\n",
            "Validation loss decreased (0.382497 --> 0.358429).  Saving model ...\n",
            "Epoch: 13 \tTraining Loss: 0.517030 \tValidation Loss: 0.339562\n",
            "Validation loss decreased (0.358429 --> 0.339562).  Saving model ...\n",
            "Epoch: 14 \tTraining Loss: 0.505300 \tValidation Loss: 0.323052\n",
            "Validation loss decreased (0.339562 --> 0.323052).  Saving model ...\n",
            "Epoch: 15 \tTraining Loss: 0.489604 \tValidation Loss: 0.305754\n",
            "Validation loss decreased (0.323052 --> 0.305754).  Saving model ...\n",
            "Epoch: 16 \tTraining Loss: 0.485310 \tValidation Loss: 0.287979\n",
            "Validation loss decreased (0.305754 --> 0.287979).  Saving model ...\n",
            "Epoch: 17 \tTraining Loss: 0.476268 \tValidation Loss: 0.274173\n",
            "Validation loss decreased (0.287979 --> 0.274173).  Saving model ...\n",
            "Epoch: 18 \tTraining Loss: 0.466941 \tValidation Loss: 0.257380\n",
            "Validation loss decreased (0.274173 --> 0.257380).  Saving model ...\n",
            "Epoch: 19 \tTraining Loss: 0.456889 \tValidation Loss: 0.247051\n",
            "Validation loss decreased (0.257380 --> 0.247051).  Saving model ...\n",
            "Epoch: 20 \tTraining Loss: 0.447938 \tValidation Loss: 0.233042\n",
            "Validation loss decreased (0.247051 --> 0.233042).  Saving model ...\n",
            "Epoch: 21 \tTraining Loss: 0.444051 \tValidation Loss: 0.223236\n",
            "Validation loss decreased (0.233042 --> 0.223236).  Saving model ...\n",
            "Epoch: 22 \tTraining Loss: 0.439282 \tValidation Loss: 0.209936\n",
            "Validation loss decreased (0.223236 --> 0.209936).  Saving model ...\n",
            "Epoch: 23 \tTraining Loss: 0.430587 \tValidation Loss: 0.199021\n",
            "Validation loss decreased (0.209936 --> 0.199021).  Saving model ...\n",
            "Epoch: 24 \tTraining Loss: 0.420023 \tValidation Loss: 0.190653\n",
            "Validation loss decreased (0.199021 --> 0.190653).  Saving model ...\n",
            "Epoch: 25 \tTraining Loss: 0.421502 \tValidation Loss: 0.182933\n",
            "Validation loss decreased (0.190653 --> 0.182933).  Saving model ...\n",
            "Epoch: 26 \tTraining Loss: 0.408676 \tValidation Loss: 0.172756\n",
            "Validation loss decreased (0.182933 --> 0.172756).  Saving model ...\n",
            "Epoch: 27 \tTraining Loss: 0.412238 \tValidation Loss: 0.165750\n",
            "Validation loss decreased (0.172756 --> 0.165750).  Saving model ...\n",
            "Epoch: 28 \tTraining Loss: 0.404929 \tValidation Loss: 0.159111\n",
            "Validation loss decreased (0.165750 --> 0.159111).  Saving model ...\n",
            "Epoch: 29 \tTraining Loss: 0.399638 \tValidation Loss: 0.150159\n",
            "Validation loss decreased (0.159111 --> 0.150159).  Saving model ...\n",
            "Epoch: 30 \tTraining Loss: 0.396123 \tValidation Loss: 0.146397\n",
            "Validation loss decreased (0.150159 --> 0.146397).  Saving model ...\n",
            "Epoch: 31 \tTraining Loss: 0.389629 \tValidation Loss: 0.142492\n",
            "Validation loss decreased (0.146397 --> 0.142492).  Saving model ...\n",
            "Epoch: 32 \tTraining Loss: 0.383485 \tValidation Loss: 0.134897\n",
            "Validation loss decreased (0.142492 --> 0.134897).  Saving model ...\n",
            "Epoch: 33 \tTraining Loss: 0.380747 \tValidation Loss: 0.128960\n",
            "Validation loss decreased (0.134897 --> 0.128960).  Saving model ...\n",
            "Epoch: 34 \tTraining Loss: 0.380747 \tValidation Loss: 0.127536\n",
            "Validation loss decreased (0.128960 --> 0.127536).  Saving model ...\n",
            "Epoch: 35 \tTraining Loss: 0.376012 \tValidation Loss: 0.121118\n",
            "Validation loss decreased (0.127536 --> 0.121118).  Saving model ...\n",
            "Epoch: 36 \tTraining Loss: 0.375252 \tValidation Loss: 0.112367\n",
            "Validation loss decreased (0.121118 --> 0.112367).  Saving model ...\n",
            "Epoch: 37 \tTraining Loss: 0.369047 \tValidation Loss: 0.111940\n",
            "Validation loss decreased (0.112367 --> 0.111940).  Saving model ...\n",
            "Epoch: 38 \tTraining Loss: 0.364708 \tValidation Loss: 0.107157\n",
            "Validation loss decreased (0.111940 --> 0.107157).  Saving model ...\n",
            "Epoch: 39 \tTraining Loss: 0.359462 \tValidation Loss: 0.103218\n",
            "Validation loss decreased (0.107157 --> 0.103218).  Saving model ...\n",
            "Epoch: 40 \tTraining Loss: 0.367549 \tValidation Loss: 0.101950\n",
            "Validation loss decreased (0.103218 --> 0.101950).  Saving model ...\n",
            "Epoch: 41 \tTraining Loss: 0.357217 \tValidation Loss: 0.101266\n",
            "Validation loss decreased (0.101950 --> 0.101266).  Saving model ...\n",
            "Epoch: 42 \tTraining Loss: 0.351249 \tValidation Loss: 0.096437\n",
            "Validation loss decreased (0.101266 --> 0.096437).  Saving model ...\n",
            "Epoch: 43 \tTraining Loss: 0.341093 \tValidation Loss: 0.091961\n",
            "Validation loss decreased (0.096437 --> 0.091961).  Saving model ...\n",
            "Epoch: 44 \tTraining Loss: 0.344781 \tValidation Loss: 0.092386\n",
            "Epoch: 45 \tTraining Loss: 0.341253 \tValidation Loss: 0.089194\n",
            "Validation loss decreased (0.091961 --> 0.089194).  Saving model ...\n",
            "Epoch: 46 \tTraining Loss: 0.343653 \tValidation Loss: 0.086922\n",
            "Validation loss decreased (0.089194 --> 0.086922).  Saving model ...\n",
            "Epoch: 47 \tTraining Loss: 0.340926 \tValidation Loss: 0.083980\n",
            "Validation loss decreased (0.086922 --> 0.083980).  Saving model ...\n",
            "Epoch: 48 \tTraining Loss: 0.340115 \tValidation Loss: 0.082774\n",
            "Validation loss decreased (0.083980 --> 0.082774).  Saving model ...\n",
            "Epoch: 49 \tTraining Loss: 0.333630 \tValidation Loss: 0.078714\n",
            "Validation loss decreased (0.082774 --> 0.078714).  Saving model ...\n",
            "Epoch: 50 \tTraining Loss: 0.335018 \tValidation Loss: 0.077640\n",
            "Validation loss decreased (0.078714 --> 0.077640).  Saving model ...\n",
            "Epoch: 51 \tTraining Loss: 0.334813 \tValidation Loss: 0.075475\n",
            "Validation loss decreased (0.077640 --> 0.075475).  Saving model ...\n",
            "Epoch: 52 \tTraining Loss: 0.328857 \tValidation Loss: 0.072384\n",
            "Validation loss decreased (0.075475 --> 0.072384).  Saving model ...\n",
            "Epoch: 53 \tTraining Loss: 0.333561 \tValidation Loss: 0.072502\n",
            "Epoch: 54 \tTraining Loss: 0.329071 \tValidation Loss: 0.070419\n",
            "Validation loss decreased (0.072384 --> 0.070419).  Saving model ...\n",
            "Epoch: 55 \tTraining Loss: 0.328126 \tValidation Loss: 0.070208\n",
            "Validation loss decreased (0.070419 --> 0.070208).  Saving model ...\n",
            "Epoch: 56 \tTraining Loss: 0.324124 \tValidation Loss: 0.068177\n",
            "Validation loss decreased (0.070208 --> 0.068177).  Saving model ...\n",
            "Epoch: 57 \tTraining Loss: 0.320362 \tValidation Loss: 0.067464\n",
            "Validation loss decreased (0.068177 --> 0.067464).  Saving model ...\n",
            "Epoch: 58 \tTraining Loss: 0.313688 \tValidation Loss: 0.063088\n",
            "Validation loss decreased (0.067464 --> 0.063088).  Saving model ...\n",
            "Epoch: 59 \tTraining Loss: 0.316930 \tValidation Loss: 0.062376\n",
            "Validation loss decreased (0.063088 --> 0.062376).  Saving model ...\n",
            "Epoch: 60 \tTraining Loss: 0.312987 \tValidation Loss: 0.061774\n",
            "Validation loss decreased (0.062376 --> 0.061774).  Saving model ...\n",
            "Epoch: 61 \tTraining Loss: 0.313057 \tValidation Loss: 0.061500\n",
            "Validation loss decreased (0.061774 --> 0.061500).  Saving model ...\n",
            "Epoch: 62 \tTraining Loss: 0.314941 \tValidation Loss: 0.060489\n",
            "Validation loss decreased (0.061500 --> 0.060489).  Saving model ...\n",
            "Epoch: 63 \tTraining Loss: 0.312299 \tValidation Loss: 0.057953\n",
            "Validation loss decreased (0.060489 --> 0.057953).  Saving model ...\n",
            "Epoch: 64 \tTraining Loss: 0.304079 \tValidation Loss: 0.058455\n",
            "Epoch: 65 \tTraining Loss: 0.311980 \tValidation Loss: 0.057254\n",
            "Validation loss decreased (0.057953 --> 0.057254).  Saving model ...\n",
            "Epoch: 66 \tTraining Loss: 0.309062 \tValidation Loss: 0.056127\n",
            "Validation loss decreased (0.057254 --> 0.056127).  Saving model ...\n",
            "Epoch: 67 \tTraining Loss: 0.305161 \tValidation Loss: 0.055609\n",
            "Validation loss decreased (0.056127 --> 0.055609).  Saving model ...\n",
            "Epoch: 68 \tTraining Loss: 0.298958 \tValidation Loss: 0.053679\n",
            "Validation loss decreased (0.055609 --> 0.053679).  Saving model ...\n",
            "Epoch: 69 \tTraining Loss: 0.305862 \tValidation Loss: 0.051646\n",
            "Validation loss decreased (0.053679 --> 0.051646).  Saving model ...\n"
          ],
          "name": "stdout"
        }
      ]
    },
    {
      "metadata": {
        "id": "l2KuLY7_ON8E",
        "colab_type": "code",
        "outputId": "bd9af520-c2d9-4899-dcc3-8adede6976aa",
        "colab": {
          "base_uri": "https://localhost:8080/",
          "height": 165
        }
      },
      "cell_type": "code",
      "source": [
        "model.load_state_dict(torch.load('model_augmented.pt'))"
      ],
      "execution_count": 0,
      "outputs": [
        {
          "output_type": "error",
          "ename": "NameError",
          "evalue": "ignored",
          "traceback": [
            "\u001b[0;31m---------------------------------------------------------------------------\u001b[0m",
            "\u001b[0;31mNameError\u001b[0m                                 Traceback (most recent call last)",
            "\u001b[0;32m<ipython-input-2-13f87a119d05>\u001b[0m in \u001b[0;36m<module>\u001b[0;34m()\u001b[0m\n\u001b[0;32m----> 1\u001b[0;31m \u001b[0mmodel\u001b[0m\u001b[0;34m.\u001b[0m\u001b[0mload_state_dict\u001b[0m\u001b[0;34m(\u001b[0m\u001b[0mtorch\u001b[0m\u001b[0;34m.\u001b[0m\u001b[0mload\u001b[0m\u001b[0;34m(\u001b[0m\u001b[0;34m'model_augmented.pt'\u001b[0m\u001b[0;34m)\u001b[0m\u001b[0;34m)\u001b[0m\u001b[0;34m\u001b[0m\u001b[0;34m\u001b[0m\u001b[0m\n\u001b[0m",
            "\u001b[0;31mNameError\u001b[0m: name 'model' is not defined"
          ]
        }
      ]
    }
  ]
}